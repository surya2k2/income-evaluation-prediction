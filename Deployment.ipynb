{
 "cells": [
  {
   "cell_type": "code",
   "execution_count": 1,
   "id": "cb3a9b99",
   "metadata": {},
   "outputs": [],
   "source": [
    "from sklearn.preprocessing import LabelEncoder\n",
    "import pickle\n",
    "import numpy as np\n",
    "import pandas as pd\n",
    "import ipywidgets as widgets\n",
    "import pandas as pd\n",
    "import pickle\n",
    "from ipywidgets import widgets"
   ]
  },
  {
   "cell_type": "code",
   "execution_count": 2,
   "id": "597098e3",
   "metadata": {},
   "outputs": [
    {
     "data": {
      "application/vnd.jupyter.widget-view+json": {
       "model_id": "0f9def20c9ad436698857ea3ad6b9b8a",
       "version_major": 2,
       "version_minor": 0
      },
      "text/plain": [
       "Dropdown(description='workclass:', options=(' State-gov', ' Self-emp-not-inc', ' Private', ' Federal-gov', ' L…"
      ]
     },
     "metadata": {},
     "output_type": "display_data"
    },
    {
     "data": {
      "application/vnd.jupyter.widget-view+json": {
       "model_id": "c1dec293339240b89f07a07076eb791a",
       "version_major": 2,
       "version_minor": 0
      },
      "text/plain": [
       "Dropdown(description=' education:', options=(' Bachelors', ' HS-grad', ' 11th', ' Masters', ' 9th', ' Some-col…"
      ]
     },
     "metadata": {},
     "output_type": "display_data"
    },
    {
     "data": {
      "application/vnd.jupyter.widget-view+json": {
       "model_id": "c7a6b8e0495746d6baa1efd1306aff73",
       "version_major": 2,
       "version_minor": 0
      },
      "text/plain": [
       "Dropdown(description=' marital-status:', options=(' Never-married', ' Married-civ-spouse', ' Divorced', ' Marr…"
      ]
     },
     "metadata": {},
     "output_type": "display_data"
    },
    {
     "data": {
      "application/vnd.jupyter.widget-view+json": {
       "model_id": "002ac7378dbd4a74bcc9c8ecf8d41866",
       "version_major": 2,
       "version_minor": 0
      },
      "text/plain": [
       "Dropdown(description=' occupation:', options=(' Adm-clerical', ' Exec-managerial', ' Handlers-cleaners', ' Pro…"
      ]
     },
     "metadata": {},
     "output_type": "display_data"
    },
    {
     "data": {
      "application/vnd.jupyter.widget-view+json": {
       "model_id": "ce22b837de254f6c8a089bd411c6017c",
       "version_major": 2,
       "version_minor": 0
      },
      "text/plain": [
       "Dropdown(description=' relationship:', options=(' Not-in-family', ' Husband', ' Wife', ' Own-child', ' Unmarri…"
      ]
     },
     "metadata": {},
     "output_type": "display_data"
    },
    {
     "name": "stdout",
     "output_type": "stream",
     "text": [
      "Press Enter after selecting a category from the dropdown.\n",
      "Age: 32\n",
      "Final_weight: 6745\n",
      "Number of education: 10\n",
      "capital_gain: 123\n",
      "capital-loss: 789\n",
      "Hours_per_week: 48\n",
      "Prediction result: [1]\n",
      "<---------Above 50k per month---------->\n"
     ]
    },
    {
     "name": "stderr",
     "output_type": "stream",
     "text": [
      "C:\\Users\\Surya K\\anaconda3\\Lib\\site-packages\\sklearn\\base.py:464: UserWarning: X does not have valid feature names, but RandomForestClassifier was fitted with feature names\n",
      "  warnings.warn(\n"
     ]
    }
   ],
   "source": [
    "import pandas as pd\n",
    "import pickle\n",
    "from sklearn.preprocessing import LabelEncoder\n",
    "import ipywidgets as widgets\n",
    "\n",
    "# Load your LabelEncoder\n",
    "with open('lb_make.pkl', 'rb') as le_file:\n",
    "    lb_make = pickle.load(le_file)\n",
    "\n",
    "# Load your DataFrame\n",
    "df = pd.read_csv(r\"C:\\surya files\\D))\\cap projest-2\\income_evaluation.csv\")\n",
    "\n",
    "dropdown1 = widgets.Dropdown(\n",
    "    options=df[' workclass'].unique(),\n",
    "    description='workclass:',\n",
    ")\n",
    "dropdown2 = widgets.Dropdown(\n",
    "    options=df[' education'].unique(),\n",
    "    description=' education:',\n",
    ")\n",
    "\n",
    "dropdown3 = widgets.Dropdown(\n",
    "    options=df[' marital-status'].unique(),\n",
    "    description=' marital-status:',\n",
    ")\n",
    "\n",
    "dropdown4 = widgets.Dropdown(\n",
    "    options=df[' occupation'].unique(),\n",
    "    description=' occupation:',\n",
    ")\n",
    "\n",
    "dropdown5 = widgets.Dropdown(\n",
    "    options=df[' relationship'].unique(),\n",
    "    description=' relationship:',\n",
    ")\n",
    "\n",
    "# Display Dropdowns\n",
    "display(dropdown1)\n",
    "display(dropdown2)\n",
    "display(dropdown3)\n",
    "display(dropdown4)\n",
    "display(dropdown5)\n",
    "\n",
    "user_input = input(\"Press Enter after selecting a category from the dropdown.\")\n",
    "\n",
    "# Update the encoders with the correct columns\n",
    "encoders = {\n",
    "    ' workclass': LabelEncoder(),\n",
    "    ' education': LabelEncoder(),\n",
    "    ' marital-status': LabelEncoder(),\n",
    "    ' occupation': LabelEncoder(),\n",
    "    ' relationship': LabelEncoder(),\n",
    "}\n",
    "for column, encoder in encoders.items():\n",
    "    df[column] = encoder.fit_transform(df[column])\n",
    "    \n",
    "    with open(f'label_make_{column}.pkl', 'wb') as le_file:\n",
    "        pickle.dump(encoder, le_file)\n",
    "\n",
    "age = int(input(\"Age: \"))\n",
    "fnlwgt = int(input(\"Final_weight: \"))\n",
    "education_num = int(input(\"Number of education: \"))\n",
    "capital_gain = int(input(\"capital_gain: \"))\n",
    "capital_loss = int(input(\"capital-loss: \"))\n",
    "hours_per_week = int(input(\"Hours_per_week: \"))\n",
    "workclass = encoders[' workclass'].transform([dropdown1.value])[0]\n",
    "education = encoders[' education'].transform([dropdown2.value])[0]\n",
    "marital_status = encoders[' marital-status'].transform([dropdown3.value])[0]\n",
    "occupation = encoders[' occupation'].transform([dropdown4.value])[0]\n",
    "relationship = encoders[' relationship'].transform([dropdown5.value])[0]\n",
    "    \n",
    "\n",
    "with open('model.pkl', 'rb') as model_file:\n",
    "    main_model = pickle.load(model_file)\n",
    "\n",
    "result = main_model.predict([[workclass, education, marital_status, occupation, relationship, age, fnlwgt, education_num, capital_gain, capital_loss, hours_per_week]])\n",
    "\n",
    "print(\"Prediction result:\", result)\n",
    "\n",
    "if result == 0:\n",
    "    print(\"<---------Below 50k per month---------->\")\n",
    "elif result == 1:\n",
    "    print(\"<---------Above 50k per month---------->\")\n",
    "else:\n",
    "    pass\n"
   ]
  },
  {
   "cell_type": "code",
   "execution_count": null,
   "id": "ba6dfa1b",
   "metadata": {},
   "outputs": [],
   "source": []
  }
 ],
 "metadata": {
  "kernelspec": {
   "display_name": "Python 3 (ipykernel)",
   "language": "python",
   "name": "python3"
  },
  "language_info": {
   "codemirror_mode": {
    "name": "ipython",
    "version": 3
   },
   "file_extension": ".py",
   "mimetype": "text/x-python",
   "name": "python",
   "nbconvert_exporter": "python",
   "pygments_lexer": "ipython3",
   "version": "3.11.5"
  }
 },
 "nbformat": 4,
 "nbformat_minor": 5
}
